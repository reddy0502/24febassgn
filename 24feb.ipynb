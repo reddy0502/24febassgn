{
 "cells": [
  {
   "cell_type": "markdown",
   "id": "375d09b3-6862-4ad0-a504-24eb0132e31c",
   "metadata": {},
   "source": [
    "1ans:"
   ]
  },
  {
   "cell_type": "code",
   "execution_count": null,
   "id": "c22775a2-dcb1-4fe2-afa4-ba06d68541bd",
   "metadata": {},
   "outputs": [],
   "source": [
    "import pandas as pd\n",
    "data=pd.read_csv(r'cardata.csv')\n",
    "data\n",
    "data.head()\n",
    "data.head(7)\n",
    "data.tail()\n",
    "data.tail(7)\n",
    "data.describe()\n",
    "data.dtypes\n",
    "data.columns\n",
    "data.iloc[1]\n",
    "data.shape\n",
    "data.size"
   ]
  },
  {
   "cell_type": "markdown",
   "id": "6b40ea8c-a686-4438-8e25-aea006d09ba2",
   "metadata": {},
   "source": [
    "2ans:"
   ]
  },
  {
   "cell_type": "code",
   "execution_count": 3,
   "id": "c2e0a34d-5854-4f0f-9d95-61317e4bef3a",
   "metadata": {},
   "outputs": [],
   "source": [
    "def indexupdate(data):\n",
    "    data=data.reset_index()\n",
    "    data.index=pd.RangeIndex(start=1, stop=2*len(data)+1, step=2)\n",
    "    del data['index']\n",
    "    print(data)\n"
   ]
  },
  {
   "cell_type": "markdown",
   "id": "287437f0-a22d-4318-929b-0ebb1f0e0e0f",
   "metadata": {},
   "source": [
    "3ans:"
   ]
  },
  {
   "cell_type": "code",
   "execution_count": null,
   "id": "94120ed9-1ca3-4c4d-80cf-eda359ef3e08",
   "metadata": {},
   "outputs": [],
   "source": [
    "def print3(data):\n",
    "    l=list(data['Values'])\n",
    "    j=0\n",
    "    sum=0\n",
    "    for i in l:\n",
    "        if(j<3):\n",
    "            sum=sum+i\n",
    "            j=j+1\n",
    "    print(sum)"
   ]
  },
  {
   "cell_type": "markdown",
   "id": "1a0db6c6-62a5-41d0-86dc-2786791830dc",
   "metadata": {},
   "source": [
    "4ans:"
   ]
  },
  {
   "cell_type": "code",
   "execution_count": 4,
   "id": "5977c1bc-efe1-4e0b-8b70-646fc3dc7dae",
   "metadata": {},
   "outputs": [],
   "source": [
    "def newColumn(data):\n",
    "    data['Word_Count']=data['Text'].str.len()"
   ]
  },
  {
   "cell_type": "markdown",
   "id": "0eea4f20-7bc4-4194-a1f0-6722a3725e23",
   "metadata": {},
   "source": [
    "5ans:"
   ]
  },
  {
   "cell_type": "markdown",
   "id": "b5a64db3-d00c-4041-8b7b-bcb0f583a4f7",
   "metadata": {},
   "source": [
    "Both dataframe.size() and dataframe.shape are functions used to obtain information about the dimensions of a pandas DataFrame, but they return different information."
   ]
  },
  {
   "cell_type": "markdown",
   "id": "ab82b776-44ba-4c89-911d-626b2b0fa768",
   "metadata": {},
   "source": [
    "The dataframe.shape() function returns a tuple of two values (rows, columns) indicating the number of rows and columns in the DataFrame"
   ]
  },
  {
   "cell_type": "markdown",
   "id": "d64567ad-c843-49c8-8704-7fc3fb8bab83",
   "metadata": {},
   "source": [
    " Dataframe.size() function returns the total number of elements in the DataFrame. It is equivalent to the product of the number of rows and the number of columns. "
   ]
  },
  {
   "cell_type": "markdown",
   "id": "c7c54e99-fa1c-47ff-8fbc-65a183511533",
   "metadata": {},
   "source": [
    "6ans:"
   ]
  },
  {
   "cell_type": "markdown",
   "id": "189ef4d9-d263-4f23-8c2e-905852af5a2d",
   "metadata": {},
   "source": [
    "The read_excel() function of Pandas to read an Excel file. This function reads data from the first sheet of an Excel workbook and returns a Pandas DataFrame."
   ]
  },
  {
   "cell_type": "code",
   "execution_count": null,
   "id": "c408e41d-02f8-425a-9f3b-18cd38d3539e",
   "metadata": {},
   "outputs": [],
   "source": [
    "import pandas as pd\n",
    "df = pd.read_excel('data.xlsx')\n"
   ]
  },
  {
   "cell_type": "markdown",
   "id": "8c926c8e-4259-4bdf-9f13-404dc6f7d9f2",
   "metadata": {},
   "source": [
    "read_excel() function reads an Excel file named 'data.xlsx' and returns a DataFrame which is then assigned to the variable df"
   ]
  },
  {
   "cell_type": "markdown",
   "id": "9e01f362-6c09-46fc-934b-0ef526e52635",
   "metadata": {},
   "source": [
    "7ans:"
   ]
  },
  {
   "cell_type": "code",
   "execution_count": null,
   "id": "9c831ed9-fd84-4db5-a3ed-a7d4996636b8",
   "metadata": {},
   "outputs": [],
   "source": [
    "def seperateUser(data):\n",
    "    data['Username']=data['Email'].str.split('@').str[0]\n",
    "    "
   ]
  },
  {
   "cell_type": "markdown",
   "id": "80a6fc21-a99d-43f6-879f-d3ee3bb968e3",
   "metadata": {},
   "source": [
    "8ans:"
   ]
  },
  {
   "cell_type": "code",
   "execution_count": 6,
   "id": "f9b88050-3a9c-47f7-9c57-e888f25f74f4",
   "metadata": {},
   "outputs": [],
   "source": [
    "def greater(data):\n",
    "    return data[(data['A']>5) & (data['B']<10)]\n",
    "    "
   ]
  },
  {
   "cell_type": "code",
   "execution_count": 7,
   "id": "07a2125a-0ba7-4544-ac83-900468cba684",
   "metadata": {},
   "outputs": [
    {
     "data": {
      "text/html": [
       "<div>\n",
       "<style scoped>\n",
       "    .dataframe tbody tr th:only-of-type {\n",
       "        vertical-align: middle;\n",
       "    }\n",
       "\n",
       "    .dataframe tbody tr th {\n",
       "        vertical-align: top;\n",
       "    }\n",
       "\n",
       "    .dataframe thead th {\n",
       "        text-align: right;\n",
       "    }\n",
       "</style>\n",
       "<table border=\"1\" class=\"dataframe\">\n",
       "  <thead>\n",
       "    <tr style=\"text-align: right;\">\n",
       "      <th></th>\n",
       "      <th>A</th>\n",
       "      <th>B</th>\n",
       "      <th>C</th>\n",
       "    </tr>\n",
       "  </thead>\n",
       "  <tbody>\n",
       "    <tr>\n",
       "      <th>1</th>\n",
       "      <td>8</td>\n",
       "      <td>2</td>\n",
       "      <td>7</td>\n",
       "    </tr>\n",
       "    <tr>\n",
       "      <th>2</th>\n",
       "      <td>6</td>\n",
       "      <td>9</td>\n",
       "      <td>4</td>\n",
       "    </tr>\n",
       "    <tr>\n",
       "      <th>4</th>\n",
       "      <td>9</td>\n",
       "      <td>1</td>\n",
       "      <td>2</td>\n",
       "    </tr>\n",
       "  </tbody>\n",
       "</table>\n",
       "</div>"
      ],
      "text/plain": [
       "   A  B  C\n",
       "1  8  2  7\n",
       "2  6  9  4\n",
       "4  9  1  2"
      ]
     },
     "execution_count": 7,
     "metadata": {},
     "output_type": "execute_result"
    }
   ],
   "source": [
    "data={'A':[3,8,6,2,9],'B':[5,2,9,3,1],'C':[1,7,4,5,2]}\n",
    "df1=pd.DataFrame(data)\n",
    "df=greater(df1)\n",
    "df"
   ]
  },
  {
   "cell_type": "markdown",
   "id": "cccdccf2-2c27-454e-ada8-b445347b9d66",
   "metadata": {},
   "source": [
    "9ans:"
   ]
  },
  {
   "cell_type": "code",
   "execution_count": null,
   "id": "474c752e-724a-40c2-9d88-2ffa0411a626",
   "metadata": {},
   "outputs": [],
   "source": [
    "def calculate(data):\n",
    "    return data['values'].mean(),data['values'].median(),data['values'].std()"
   ]
  },
  {
   "cell_type": "markdown",
   "id": "22ae097d-a625-4468-bb38-f42278d4991a",
   "metadata": {},
   "source": [
    "10ans:"
   ]
  },
  {
   "cell_type": "code",
   "execution_count": null,
   "id": "04c6417c-384c-445c-9abb-c3ce442702ce",
   "metadata": {},
   "outputs": [],
   "source": [
    "import pandas as pd\n",
    "\n",
    "def add_moving_average(df):\n",
    "    \n",
    "    df['MovingAverage'] = df['Sales'].rolling(window=7, min_periods=1).mean()\n",
    "    return df\n"
   ]
  },
  {
   "cell_type": "markdown",
   "id": "8c6c5e5b-8d6e-4c62-8718-ff7c889a5f1e",
   "metadata": {},
   "source": [
    "11ans:"
   ]
  },
  {
   "cell_type": "code",
   "execution_count": 8,
   "id": "9c5361ea-5492-4920-8187-f10ad840a200",
   "metadata": {},
   "outputs": [],
   "source": [
    "def createwekdays(data):\n",
    "    Weekday=['Sunday','Monday','Tuesday','Wednesday','Thursday']\n",
    "    data['Weekday'] = Weekday\n",
    "    return data"
   ]
  },
  {
   "cell_type": "code",
   "execution_count": 9,
   "id": "79892006-9f0b-4e0a-b3ff-e71241cff467",
   "metadata": {},
   "outputs": [
    {
     "data": {
      "text/html": [
       "<div>\n",
       "<style scoped>\n",
       "    .dataframe tbody tr th:only-of-type {\n",
       "        vertical-align: middle;\n",
       "    }\n",
       "\n",
       "    .dataframe tbody tr th {\n",
       "        vertical-align: top;\n",
       "    }\n",
       "\n",
       "    .dataframe thead th {\n",
       "        text-align: right;\n",
       "    }\n",
       "</style>\n",
       "<table border=\"1\" class=\"dataframe\">\n",
       "  <thead>\n",
       "    <tr style=\"text-align: right;\">\n",
       "      <th></th>\n",
       "      <th>Date</th>\n",
       "      <th>Weekday</th>\n",
       "    </tr>\n",
       "  </thead>\n",
       "  <tbody>\n",
       "    <tr>\n",
       "      <th>0</th>\n",
       "      <td>2023-01-01</td>\n",
       "      <td>Sunday</td>\n",
       "    </tr>\n",
       "    <tr>\n",
       "      <th>1</th>\n",
       "      <td>2023-01-02</td>\n",
       "      <td>Monday</td>\n",
       "    </tr>\n",
       "    <tr>\n",
       "      <th>2</th>\n",
       "      <td>2023-01-03</td>\n",
       "      <td>Tuesday</td>\n",
       "    </tr>\n",
       "    <tr>\n",
       "      <th>3</th>\n",
       "      <td>2023-01-04</td>\n",
       "      <td>Wednesday</td>\n",
       "    </tr>\n",
       "    <tr>\n",
       "      <th>4</th>\n",
       "      <td>2023-01-05</td>\n",
       "      <td>Thursday</td>\n",
       "    </tr>\n",
       "  </tbody>\n",
       "</table>\n",
       "</div>"
      ],
      "text/plain": [
       "         Date    Weekday\n",
       "0  2023-01-01     Sunday\n",
       "1  2023-01-02     Monday\n",
       "2  2023-01-03    Tuesday\n",
       "3  2023-01-04  Wednesday\n",
       "4  2023-01-05   Thursday"
      ]
     },
     "execution_count": 9,
     "metadata": {},
     "output_type": "execute_result"
    }
   ],
   "source": [
    "Data={'Date':['2023-01-01','2023-01-02','2023-01-03','2023-01-04','2023-01-05']}\n",
    "df=pd.DataFrame(Data)\n",
    "df1=createwekdays(df)\n",
    "df1"
   ]
  },
  {
   "cell_type": "markdown",
   "id": "ed35b5e1-036a-4db6-834f-f403a2a752b7",
   "metadata": {},
   "source": [
    "12ans:"
   ]
  },
  {
   "cell_type": "code",
   "execution_count": null,
   "id": "2aa2ee94-bcde-4d89-b8f8-c8d768d6dcc7",
   "metadata": {},
   "outputs": [],
   "source": [
    "def date(data):\n",
    "    return data.iloc[0:31]"
   ]
  },
  {
   "cell_type": "markdown",
   "id": "8c3feb01-60f8-4062-83a8-3dc3806d5980",
   "metadata": {},
   "source": [
    "13ans:"
   ]
  },
  {
   "cell_type": "markdown",
   "id": "a589da4f-5d12-4b3f-80ae-3adfbaa6ef6d",
   "metadata": {},
   "source": [
    "To use the basic functions of pandas, the first and foremost necessary library that needs tobe imported is pandas library. Pandas is an open source library in Python. It provides ready to use high-performance data structures and data analysis tools. Pandas module runs on top of NumPy and it is popularly used for data science and data analytics"
   ]
  },
  {
   "cell_type": "code",
   "execution_count": null,
   "id": "a2030eab-f771-4d76-aa45-9ae1b811e07c",
   "metadata": {},
   "outputs": [],
   "source": []
  }
 ],
 "metadata": {
  "kernelspec": {
   "display_name": "Python 3 (ipykernel)",
   "language": "python",
   "name": "python3"
  },
  "language_info": {
   "codemirror_mode": {
    "name": "ipython",
    "version": 3
   },
   "file_extension": ".py",
   "mimetype": "text/x-python",
   "name": "python",
   "nbconvert_exporter": "python",
   "pygments_lexer": "ipython3",
   "version": "3.10.8"
  }
 },
 "nbformat": 4,
 "nbformat_minor": 5
}
